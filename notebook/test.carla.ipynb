{
 "cells": [
  {
   "cell_type": "code",
   "execution_count": 1,
   "metadata": {},
   "outputs": [],
   "source": [
    "import carla\n",
    "import numpy as np\n",
    "import inspect"
   ]
  },
  {
   "cell_type": "code",
   "execution_count": 2,
   "metadata": {},
   "outputs": [
    {
     "name": "stdout",
     "output_type": "stream",
     "text": [
      "[[1.0, 0.0, -0.0, 0.0], [0.0, 1.0, 0.0, 0.0], [0.0, -0.0, 1.0, 0.0], [0.0, 0.0, 0.0, 1.0]]\n",
      "[[0.9848077297210693, 0.03015368990600109, 0.1710100620985031, 0.0], [0.0, 0.9848077297210693, -0.1736481785774231, 0.0], [-0.1736481785774231, 0.1710100620985031, 0.969846248626709, 0.0], [0.0, 0.0, 0.0, 1.0]]\n"
     ]
    }
   ],
   "source": [
    "transform = carla.Transform()\n",
    "matrix = transform.get_matrix()\n",
    "print(matrix)\n",
    "rotation = carla.Rotation(-10, 0, -10)\n",
    "next_transform = carla.Transform(transform.location, rotation)\n",
    "matrix = next_transform.get_matrix()\n",
    "print(matrix)"
   ]
  },
  {
   "cell_type": "code",
   "execution_count": 3,
   "metadata": {},
   "outputs": [
    {
     "data": {
      "text/plain": [
       "[('__class__', carla.libcarla.Transform),\n",
       " ('__delattr__',\n",
       "  <method-wrapper '__delattr__' of Transform object at 0x7f31dc061370>),\n",
       " ('__dict__', {}),\n",
       " ('__dir__', <function Transform.__dir__()>),\n",
       " ('__doc__', None),\n",
       " ('__eq__',\n",
       "  <bound method __eq__ of <carla.libcarla.Transform object at 0x7f31dc061370>>),\n",
       " ('__format__', <function Transform.__format__(format_spec, /)>),\n",
       " ('__ge__', <method-wrapper '__ge__' of Transform object at 0x7f31dc061370>),\n",
       " ('__getattribute__',\n",
       "  <method-wrapper '__getattribute__' of Transform object at 0x7f31dc061370>),\n",
       " ('__gt__', <method-wrapper '__gt__' of Transform object at 0x7f31dc061370>),\n",
       " ('__hash__',\n",
       "  <method-wrapper '__hash__' of Transform object at 0x7f31dc061370>),\n",
       " ('__init__',\n",
       "  <bound method __init__ of <carla.libcarla.Transform object at 0x7f31dc061370>>),\n",
       " ('__init_subclass__', <function Transform.__init_subclass__>),\n",
       " ('__instance_size__', 40),\n",
       " ('__le__', <method-wrapper '__le__' of Transform object at 0x7f31dc061370>),\n",
       " ('__lt__', <method-wrapper '__lt__' of Transform object at 0x7f31dc061370>),\n",
       " ('__module__', 'carla.libcarla'),\n",
       " ('__ne__',\n",
       "  <bound method __ne__ of <carla.libcarla.Transform object at 0x7f31dc061370>>),\n",
       " ('__new__', <function instance.__new__(*args, **kwargs)>),\n",
       " ('__reduce__',\n",
       "  <bound method <unnamed Boost.Python function> of <carla.libcarla.Transform object at 0x7f31dc061370>>),\n",
       " ('__reduce_ex__', <function Transform.__reduce_ex__(protocol, /)>),\n",
       " ('__repr__',\n",
       "  <method-wrapper '__repr__' of Transform object at 0x7f31dc061370>),\n",
       " ('__setattr__',\n",
       "  <method-wrapper '__setattr__' of Transform object at 0x7f31dc061370>),\n",
       " ('__sizeof__', <function Transform.__sizeof__()>),\n",
       " ('__str__',\n",
       "  <bound method __str__ of <carla.libcarla.Transform object at 0x7f31dc061370>>),\n",
       " ('__subclasshook__', <function Transform.__subclasshook__>),\n",
       " ('__weakref__', None),\n",
       " ('get_forward_vector',\n",
       "  <bound method get_forward_vector of <carla.libcarla.Transform object at 0x7f31dc061370>>),\n",
       " ('get_inverse_matrix',\n",
       "  <bound method get_inverse_matrix of <carla.libcarla.Transform object at 0x7f31dc061370>>),\n",
       " ('get_matrix',\n",
       "  <bound method get_matrix of <carla.libcarla.Transform object at 0x7f31dc061370>>),\n",
       " ('get_right_vector',\n",
       "  <bound method get_right_vector of <carla.libcarla.Transform object at 0x7f31dc061370>>),\n",
       " ('get_up_vector',\n",
       "  <bound method get_up_vector of <carla.libcarla.Transform object at 0x7f31dc061370>>),\n",
       " ('location', <carla.libcarla.Location at 0x7f31dc066990>),\n",
       " ('rotation', <carla.libcarla.Rotation at 0x7f31dc066df0>),\n",
       " ('transform',\n",
       "  <bound method transform of <carla.libcarla.Transform object at 0x7f31dc061370>>)]"
      ]
     },
     "execution_count": 3,
     "metadata": {},
     "output_type": "execute_result"
    }
   ],
   "source": [
    "transform = carla.Transform()\n",
    "inspect.getmembers(transform)\n",
    "transform."
   ]
  },
  {
   "cell_type": "code",
   "execution_count": null,
   "metadata": {},
   "outputs": [],
   "source": []
  }
 ],
 "metadata": {
  "kernelspec": {
   "display_name": "Python 3",
   "language": "python",
   "name": "python3"
  },
  "language_info": {
   "codemirror_mode": {
    "name": "ipython",
    "version": 3
   },
   "file_extension": ".py",
   "mimetype": "text/x-python",
   "name": "python",
   "nbconvert_exporter": "python",
   "pygments_lexer": "ipython3",
   "version": "3.7.9"
  }
 },
 "nbformat": 4,
 "nbformat_minor": 4
}
