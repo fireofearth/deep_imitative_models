{
 "cells": [
  {
   "cell_type": "code",
   "execution_count": 1,
   "metadata": {},
   "outputs": [],
   "source": [
    "import carla\n",
    "import numpy as np"
   ]
  },
  {
   "cell_type": "code",
   "execution_count": 5,
   "metadata": {},
   "outputs": [
    {
     "name": "stdout",
     "output_type": "stream",
     "text": [
      "[[1.0, 0.0, -0.0, 0.0], [0.0, 1.0, 0.0, 0.0], [0.0, -0.0, 1.0, 0.0], [0.0, 0.0, 0.0, 1.0]]\n",
      "[[0.9848077297210693, 0.03015368990600109, 0.1710100620985031, 0.0], [0.0, 0.9848077297210693, -0.1736481785774231, 0.0], [-0.1736481785774231, 0.1710100620985031, 0.969846248626709, 0.0], [0.0, 0.0, 0.0, 1.0]]\n"
     ]
    }
   ],
   "source": [
    "transform = carla.Transform()\n",
    "matrix = transform.get_matrix()\n",
    "print(matrix)\n",
    "rotation = carla.Rotation(-10, 0, -10)\n",
    "next_transform = carla.Transform(transform.location, rotation)\n",
    "matrix = next_transform.get_matrix()\n",
    "print(matrix)"
   ]
  },
  {
   "cell_type": "code",
   "execution_count": null,
   "metadata": {},
   "outputs": [],
   "source": []
  }
 ],
 "metadata": {
  "kernelspec": {
   "display_name": "Python 3",
   "language": "python",
   "name": "python3"
  },
  "language_info": {
   "codemirror_mode": {
    "name": "ipython",
    "version": 3
   },
   "file_extension": ".py",
   "mimetype": "text/x-python",
   "name": "python",
   "nbconvert_exporter": "python",
   "pygments_lexer": "ipython3",
   "version": "3.7.9"
  }
 },
 "nbformat": 4,
 "nbformat_minor": 4
}
